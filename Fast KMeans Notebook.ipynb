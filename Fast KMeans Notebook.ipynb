{
 "cells": [
  {
   "cell_type": "markdown",
   "metadata": {},
   "source": [
    "# Fast KMEANS example\n",
    "\n",
    "This is an example on how to use the accelerated KMEANS function written in C and built with cython.\n",
    "\n",
    "First let's import some libraries and the external KMEANS C extention built with Cython :"
   ]
  },
  {
   "cell_type": "code",
   "execution_count": 63,
   "metadata": {
    "collapsed": true
   },
   "outputs": [],
   "source": [
    "import numpy as np\n",
    "import matplotlib.pyplot as plt\n",
    "import random\n",
    "from Cfast_km import Cfast_km"
   ]
  },
  {
   "cell_type": "markdown",
   "metadata": {},
   "source": [
    "Then, set the number of target clusters, number of features and number of samples:"
   ]
  },
  {
   "cell_type": "code",
   "execution_count": 64,
   "metadata": {
    "collapsed": false
   },
   "outputs": [
    {
     "data": {
      "text/plain": [
       "(5, 2, 500)"
      ]
     },
     "execution_count": 64,
     "metadata": {},
     "output_type": "execute_result"
    }
   ],
   "source": [
    "nb_cluster = 5\n",
    "nb_features = 2\n",
    "nb_samples = 500\n",
    "nb_cluster, nb_features,nb_samples"
   ]
  },
  {
   "cell_type": "markdown",
   "metadata": {},
   "source": [
    "Randomly draw some samples and initial centroids. It is important to convert the lists to numpy arrays with 'double' type so the C function recognizes them."
   ]
  },
  {
   "cell_type": "code",
   "execution_count": 65,
   "metadata": {
    "collapsed": false
   },
   "outputs": [
    {
     "data": {
      "text/plain": [
       "array([[ 0.68041915,  0.74761999],\n",
       "       [ 0.0811197 ,  0.44320711],\n",
       "       [ 0.31501778,  0.73500987],\n",
       "       [ 0.37550093,  0.73580536],\n",
       "       [ 0.24081246,  0.71221542]])"
      ]
     },
     "execution_count": 65,
     "metadata": {},
     "output_type": "execute_result"
    }
   ],
   "source": [
    "X = [[random.random() for i in range(nb_features)] for j in range(nb_samples)]      \n",
    "mu = random.sample(X, nb_cluster)\n",
    "X = np.array(X, dtype=\"double\")\n",
    "mu = np.array(mu, dtype=\"double\")\n",
    "mu"
   ]
  },
  {
   "cell_type": "markdown",
   "metadata": {},
   "source": [
    "Set the initial weights for each features at 1 (all features have the same importance).\n",
    "Also we need create the labels list, which will be passed to Cfast_km function to get the cluster number for each sample"
   ]
  },
  {
   "cell_type": "code",
   "execution_count": 66,
   "metadata": {
    "collapsed": false
   },
   "outputs": [],
   "source": [
    "weights = np.array([1 for i in range(nb_features)], dtype=\"double\")\n",
    "labels = np.zeros(len(X), dtype=\"int\")"
   ]
  },
  {
   "cell_type": "markdown",
   "metadata": {},
   "source": [
    "Let's execute the Fast KMEANS functions. Results will be collected through mu (centroids) and labels (samples labels). The last argument (set as 0) is the tolerance : increasing it will stop the process in earlier steps without a full convergence, but will save some computing time."
   ]
  },
  {
   "cell_type": "code",
   "execution_count": 67,
   "metadata": {
    "collapsed": false,
    "scrolled": true
   },
   "outputs": [
    {
     "data": {
      "text/plain": [
       "(array([[ 0.78286215,  0.80200815],\n",
       "        [ 0.48044075,  0.38990149],\n",
       "        [ 0.79190823,  0.24074303],\n",
       "        [ 0.16415785,  0.22077464],\n",
       "        [ 0.2463517 ,  0.78560209]]),\n",
       " array([3, 2, 2, 3, 0, 2, 4, 4, 1, 2, 2, 0, 3, 1, 4, 2, 1, 2, 0, 2, 4, 4, 0,\n",
       "        4, 4, 3, 0, 2, 2, 0, 4, 2, 1, 4, 4, 2, 1, 4, 1, 4, 4, 3, 4, 4, 1, 2,\n",
       "        4, 0, 3, 1, 1, 4, 0, 0, 0, 2, 2, 2, 0, 1, 2, 1, 4, 3, 0, 1, 4, 0, 1,\n",
       "        3, 4, 4, 2, 0, 0, 1, 3, 4, 0, 3, 1, 1, 3, 4, 4, 3, 4, 1, 2, 1, 1, 2,\n",
       "        2, 1, 2, 2, 0, 1, 1, 3, 2, 4, 3, 3, 1, 2, 0, 1, 4, 0, 4, 1, 0, 3, 1,\n",
       "        0, 1, 0, 4, 4, 3, 1, 0, 2, 4, 0, 4, 4, 0, 0, 2, 0, 3, 1, 4, 4, 1, 3,\n",
       "        3, 4, 2, 3, 0, 1, 4, 3, 2, 4, 3, 4, 1, 4, 3, 0, 2, 4, 1, 2, 4, 0, 2,\n",
       "        0, 0, 1, 2, 1, 2, 0, 4, 3, 4, 0, 4, 3, 0, 2, 0, 0, 1, 4, 2, 2, 0, 1,\n",
       "        0, 4, 0, 3, 4, 4, 0, 0, 3, 3, 4, 3, 0, 4, 0, 2, 2, 3, 0, 4, 4, 4, 1,\n",
       "        4, 1, 2, 4, 0, 0, 0, 1, 2, 1, 2, 1, 4, 2, 4, 4, 0, 1, 0, 4, 0, 4, 0,\n",
       "        3, 0, 3, 2, 0, 2, 3, 4, 2, 4, 0, 0, 1, 0, 1, 1, 4, 1, 2, 4, 0, 1, 3,\n",
       "        2, 0, 0, 3, 0, 2, 2, 4, 4, 4, 1, 0, 1, 4, 0, 0, 3, 3, 0, 1, 0, 2, 3,\n",
       "        0, 1, 2, 3, 1, 1, 3, 2, 1, 3, 0, 0, 0, 2, 0, 4, 1, 1, 2, 4, 4, 0, 3,\n",
       "        3, 4, 0, 2, 2, 2, 0, 0, 2, 1, 4, 2, 4, 1, 4, 0, 4, 4, 1, 4, 4, 2, 0,\n",
       "        2, 0, 1, 3, 0, 1, 2, 1, 3, 3, 1, 1, 4, 3, 4, 4, 0, 4, 4, 1, 4, 0, 0,\n",
       "        3, 1, 3, 2, 0, 1, 3, 0, 1, 1, 3, 1, 2, 3, 3, 4, 4, 0, 4, 1, 1, 0, 0,\n",
       "        2, 1, 3, 1, 1, 2, 1, 3, 1, 3, 3, 3, 1, 2, 1, 4, 0, 0, 4, 2, 2, 0, 2,\n",
       "        3, 4, 2, 0, 2, 4, 3, 2, 4, 2, 0, 1, 2, 2, 0, 0, 2, 4, 1, 0, 0, 2, 1,\n",
       "        2, 1, 4, 1, 0, 4, 4, 0, 3, 3, 1, 2, 0, 0, 0, 2, 2, 2, 1, 2, 2, 0, 4,\n",
       "        0, 4, 4, 4, 4, 2, 0, 1, 3, 4, 4, 4, 1, 2, 0, 0, 0, 4, 4, 3, 1, 1, 0,\n",
       "        4, 3, 3, 4, 0, 1, 0, 0, 4, 1, 1, 0, 1, 1, 4, 3, 3, 3, 4, 3, 1, 1, 0,\n",
       "        1, 0, 1, 3, 2, 3, 4, 3, 3, 0, 4, 0, 4, 1, 1, 3, 3]))"
      ]
     },
     "execution_count": 67,
     "metadata": {},
     "output_type": "execute_result"
    }
   ],
   "source": [
    "Cfast_km(X , mu , labels, weights, 0)\n",
    "mu, labels"
   ]
  },
  {
   "cell_type": "markdown",
   "metadata": {},
   "source": [
    "Let's plot the results. We keep the first 2 features for 2D plotting"
   ]
  },
  {
   "cell_type": "code",
   "execution_count": 68,
   "metadata": {
    "collapsed": false,
    "scrolled": false
   },
   "outputs": [
    {
     "data": {
      "image/png": "[encoded data removed]",
      "text/plain": [
       "<matplotlib.figure.Figure at 0x109c17748>"
      ]
     },
     "metadata": {},
     "output_type": "display_data"
    }
   ],
   "source": [
    "cmap = { 0:'k',1:'b',2:'y',3:'g',4:'r' }\n",
    "\n",
    "fig = plt.figure(figsize=(5,5))\n",
    "plt.xlim(0,1)\n",
    "plt.ylim(0,1)\n",
    "\n",
    "\n",
    "for i in range(nb_cluster):\n",
    "    X_extract = X[labels == i]\n",
    "    X1 = np.transpose(X_extract[:,0]).tolist()\n",
    "    X2 = np.transpose(X_extract[:,1]).tolist()\n",
    "    plt.plot(X1, X2, cmap[i%5]+'.', alpha=0.5)\n",
    "\n",
    "\n",
    "mu1 = np.transpose(mu[:,0]).tolist()\n",
    "mu2 = np.transpose(mu[:,1]).tolist()\n",
    "plt.plot(mu1, mu2, 'ro')\n",
    "\n",
    "plt.show()\n"
   ]
  }
 ],
 "metadata": {
  "kernelspec": {
   "display_name": "Python 3",
   "language": "python",
   "name": "python3"
  },
  "language_info": {
   "codemirror_mode": {
    "name": "ipython",
    "version": 3
   },
   "file_extension": ".py",
   "mimetype": "text/x-python",
   "name": "python",
   "nbconvert_exporter": "python",
   "pygments_lexer": "ipython3",
   "version": "3.5.2"
  }
 },
 "nbformat": 4,
 "nbformat_minor": 2
}
